{
 "cells": [
  {
   "cell_type": "markdown",
   "source": [
    "In this notebook, I want to do some analysis for question 1 and question 3 for the Baby Names assignment."
   ],
   "metadata": {
    "collapsed": false
   },
   "id": "eca7575f48f98e87"
  },
  {
   "cell_type": "code",
   "execution_count": 1,
   "outputs": [],
   "source": [
    "import pandas as pd\n",
    "import numpy as np\n",
    "import seaborn as sns\n",
    "import matplotlib\n",
    "import matplotlib.pyplot as plt\n",
    "\n",
    "#Read in Data\n",
    "q1data = pd.read_csv(r\"C:\\Users\\cathe\\OneDrive\\Documents\\Portfolio Data\\DCbabynames\\filtered_names.csv\")\n",
    "q3data = pd.read_csv(r\"C:\\Users\\cathe\\OneDrive\\Documents\\Portfolio Data\\DCbabynames\\summed_occurrences_by_decade2.csv\")"
   ],
   "metadata": {
    "collapsed": false,
    "ExecuteTime": {
     "end_time": "2023-11-19T03:43:53.215348700Z",
     "start_time": "2023-11-19T03:43:53.129308500Z"
    }
   },
   "id": "initial_id"
  },
  {
   "cell_type": "code",
   "execution_count": 2,
   "outputs": [
    {
     "data": {
      "text/plain": "  state gender  year     name  occurrences\n0    AK      F  2012  Charlie            9\n1    AK      F  2014  Charlie            6\n2    AK      F  2015  Charlie            6\n3    AK      F  2016  Charlie            9\n4    AK      F  2017  Charlie            7",
      "text/html": "<div>\n<style scoped>\n    .dataframe tbody tr th:only-of-type {\n        vertical-align: middle;\n    }\n\n    .dataframe tbody tr th {\n        vertical-align: top;\n    }\n\n    .dataframe thead th {\n        text-align: right;\n    }\n</style>\n<table border=\"1\" class=\"dataframe\">\n  <thead>\n    <tr style=\"text-align: right;\">\n      <th></th>\n      <th>state</th>\n      <th>gender</th>\n      <th>year</th>\n      <th>name</th>\n      <th>occurrences</th>\n    </tr>\n  </thead>\n  <tbody>\n    <tr>\n      <th>0</th>\n      <td>AK</td>\n      <td>F</td>\n      <td>2012</td>\n      <td>Charlie</td>\n      <td>9</td>\n    </tr>\n    <tr>\n      <th>1</th>\n      <td>AK</td>\n      <td>F</td>\n      <td>2014</td>\n      <td>Charlie</td>\n      <td>6</td>\n    </tr>\n    <tr>\n      <th>2</th>\n      <td>AK</td>\n      <td>F</td>\n      <td>2015</td>\n      <td>Charlie</td>\n      <td>6</td>\n    </tr>\n    <tr>\n      <th>3</th>\n      <td>AK</td>\n      <td>F</td>\n      <td>2016</td>\n      <td>Charlie</td>\n      <td>9</td>\n    </tr>\n    <tr>\n      <th>4</th>\n      <td>AK</td>\n      <td>F</td>\n      <td>2017</td>\n      <td>Charlie</td>\n      <td>7</td>\n    </tr>\n  </tbody>\n</table>\n</div>"
     },
     "execution_count": 2,
     "metadata": {},
     "output_type": "execute_result"
    }
   ],
   "source": [
    "q1data.head()"
   ],
   "metadata": {
    "collapsed": false,
    "ExecuteTime": {
     "end_time": "2023-11-19T03:43:56.935347900Z",
     "start_time": "2023-11-19T03:43:56.902115100Z"
    }
   },
   "id": "4b08e9cb4e902345"
  },
  {
   "cell_type": "markdown",
   "source": [
    "I would like to create gender dummies to analyze the categorical data.  Then I want to split up the table ito one for just Charlie and one for just Oakley.  I want to look at the data in two ways to see if the names are more associate with one gender or the other.  First, I want to look at the correlation between occurences and gender.  Then, I want to look at crosstabs."
   ],
   "metadata": {
    "collapsed": false
   },
   "id": "aa1c253535da2424"
  },
  {
   "cell_type": "code",
   "execution_count": 3,
   "outputs": [],
   "source": [
    "gender_dm = pd.get_dummies(q1data.gender, prefix='gender')\n",
    "q1data = pd.concat([q1data,gender_dm], axis=1)"
   ],
   "metadata": {
    "collapsed": false,
    "ExecuteTime": {
     "end_time": "2023-11-19T03:44:04.790218100Z",
     "start_time": "2023-11-19T03:44:04.773602100Z"
    }
   },
   "id": "f3ecc47a318dab7f"
  },
  {
   "cell_type": "code",
   "execution_count": 4,
   "outputs": [
    {
     "data": {
      "text/plain": "  state gender  year     name  occurrences  gender_F  gender_M\n0    AK      F  2012  Charlie            9         1         0\n1    AK      F  2014  Charlie            6         1         0\n2    AK      F  2015  Charlie            6         1         0\n3    AK      F  2016  Charlie            9         1         0\n4    AK      F  2017  Charlie            7         1         0",
      "text/html": "<div>\n<style scoped>\n    .dataframe tbody tr th:only-of-type {\n        vertical-align: middle;\n    }\n\n    .dataframe tbody tr th {\n        vertical-align: top;\n    }\n\n    .dataframe thead th {\n        text-align: right;\n    }\n</style>\n<table border=\"1\" class=\"dataframe\">\n  <thead>\n    <tr style=\"text-align: right;\">\n      <th></th>\n      <th>state</th>\n      <th>gender</th>\n      <th>year</th>\n      <th>name</th>\n      <th>occurrences</th>\n      <th>gender_F</th>\n      <th>gender_M</th>\n    </tr>\n  </thead>\n  <tbody>\n    <tr>\n      <th>0</th>\n      <td>AK</td>\n      <td>F</td>\n      <td>2012</td>\n      <td>Charlie</td>\n      <td>9</td>\n      <td>1</td>\n      <td>0</td>\n    </tr>\n    <tr>\n      <th>1</th>\n      <td>AK</td>\n      <td>F</td>\n      <td>2014</td>\n      <td>Charlie</td>\n      <td>6</td>\n      <td>1</td>\n      <td>0</td>\n    </tr>\n    <tr>\n      <th>2</th>\n      <td>AK</td>\n      <td>F</td>\n      <td>2015</td>\n      <td>Charlie</td>\n      <td>6</td>\n      <td>1</td>\n      <td>0</td>\n    </tr>\n    <tr>\n      <th>3</th>\n      <td>AK</td>\n      <td>F</td>\n      <td>2016</td>\n      <td>Charlie</td>\n      <td>9</td>\n      <td>1</td>\n      <td>0</td>\n    </tr>\n    <tr>\n      <th>4</th>\n      <td>AK</td>\n      <td>F</td>\n      <td>2017</td>\n      <td>Charlie</td>\n      <td>7</td>\n      <td>1</td>\n      <td>0</td>\n    </tr>\n  </tbody>\n</table>\n</div>"
     },
     "execution_count": 4,
     "metadata": {},
     "output_type": "execute_result"
    }
   ],
   "source": [
    "q1data.head()"
   ],
   "metadata": {
    "collapsed": false,
    "ExecuteTime": {
     "end_time": "2023-11-19T03:44:07.343338200Z",
     "start_time": "2023-11-19T03:44:07.298178700Z"
    }
   },
   "id": "3e2106e19090b52c"
  },
  {
   "cell_type": "code",
   "execution_count": 5,
   "outputs": [],
   "source": [
    "import math\n",
    "import scipy.stats as stats\n",
    "from scipy.stats import chi2_contingency\n",
    "from scipy.stats import norm    "
   ],
   "metadata": {
    "collapsed": false,
    "ExecuteTime": {
     "end_time": "2023-11-19T03:44:28.610638100Z",
     "start_time": "2023-11-19T03:44:28.586580700Z"
    }
   },
   "id": "b09ea74ee53d8369"
  },
  {
   "cell_type": "code",
   "execution_count": 6,
   "outputs": [],
   "source": [
    "Charlie = 'Charlie'"
   ],
   "metadata": {
    "collapsed": false,
    "ExecuteTime": {
     "end_time": "2023-11-19T03:44:30.489485500Z",
     "start_time": "2023-11-19T03:44:30.474936300Z"
    }
   },
   "id": "dc22f471aa309483"
  },
  {
   "cell_type": "code",
   "execution_count": 7,
   "outputs": [],
   "source": [
    "charlie = q1data[q1data['name'] == Charlie].copy()"
   ],
   "metadata": {
    "collapsed": false,
    "ExecuteTime": {
     "end_time": "2023-11-19T03:44:32.703614900Z",
     "start_time": "2023-11-19T03:44:32.678769900Z"
    }
   },
   "id": "d7c311c86f873a9"
  },
  {
   "cell_type": "code",
   "execution_count": 8,
   "outputs": [
    {
     "data": {
      "text/plain": "  state gender  year     name  occurrences  gender_F  gender_M\n0    AK      F  2012  Charlie            9         1         0\n1    AK      F  2014  Charlie            6         1         0\n2    AK      F  2015  Charlie            6         1         0\n3    AK      F  2016  Charlie            9         1         0\n4    AK      F  2017  Charlie            7         1         0",
      "text/html": "<div>\n<style scoped>\n    .dataframe tbody tr th:only-of-type {\n        vertical-align: middle;\n    }\n\n    .dataframe tbody tr th {\n        vertical-align: top;\n    }\n\n    .dataframe thead th {\n        text-align: right;\n    }\n</style>\n<table border=\"1\" class=\"dataframe\">\n  <thead>\n    <tr style=\"text-align: right;\">\n      <th></th>\n      <th>state</th>\n      <th>gender</th>\n      <th>year</th>\n      <th>name</th>\n      <th>occurrences</th>\n      <th>gender_F</th>\n      <th>gender_M</th>\n    </tr>\n  </thead>\n  <tbody>\n    <tr>\n      <th>0</th>\n      <td>AK</td>\n      <td>F</td>\n      <td>2012</td>\n      <td>Charlie</td>\n      <td>9</td>\n      <td>1</td>\n      <td>0</td>\n    </tr>\n    <tr>\n      <th>1</th>\n      <td>AK</td>\n      <td>F</td>\n      <td>2014</td>\n      <td>Charlie</td>\n      <td>6</td>\n      <td>1</td>\n      <td>0</td>\n    </tr>\n    <tr>\n      <th>2</th>\n      <td>AK</td>\n      <td>F</td>\n      <td>2015</td>\n      <td>Charlie</td>\n      <td>6</td>\n      <td>1</td>\n      <td>0</td>\n    </tr>\n    <tr>\n      <th>3</th>\n      <td>AK</td>\n      <td>F</td>\n      <td>2016</td>\n      <td>Charlie</td>\n      <td>9</td>\n      <td>1</td>\n      <td>0</td>\n    </tr>\n    <tr>\n      <th>4</th>\n      <td>AK</td>\n      <td>F</td>\n      <td>2017</td>\n      <td>Charlie</td>\n      <td>7</td>\n      <td>1</td>\n      <td>0</td>\n    </tr>\n  </tbody>\n</table>\n</div>"
     },
     "execution_count": 8,
     "metadata": {},
     "output_type": "execute_result"
    }
   ],
   "source": [
    "charlie.head()"
   ],
   "metadata": {
    "collapsed": false,
    "ExecuteTime": {
     "end_time": "2023-11-19T03:44:33.978635400Z",
     "start_time": "2023-11-19T03:44:33.936871800Z"
    }
   },
   "id": "5de53438292e085"
  },
  {
   "cell_type": "markdown",
   "source": [],
   "metadata": {
    "collapsed": false
   },
   "id": "bdb50e26d0431f75"
  },
  {
   "cell_type": "code",
   "execution_count": 9,
   "outputs": [
    {
     "name": "stderr",
     "output_type": "stream",
     "text": [
      "C:\\Users\\cathe\\AppData\\Local\\Temp\\ipykernel_41712\\1782768021.py:1: FutureWarning: The default value of numeric_only in DataFrame.corr is deprecated. In a future version, it will default to False. Select only valid columns or specify the value of numeric_only to silence this warning.\n",
      "  charlie.corr()\n"
     ]
    },
    {
     "data": {
      "text/plain": "                 year  occurrences  gender_F  gender_M\nyear         1.000000    -0.223944  0.218887 -0.218887\noccurrences -0.223944     1.000000 -0.165667  0.165667\ngender_F     0.218887    -0.165667  1.000000 -1.000000\ngender_M    -0.218887     0.165667 -1.000000  1.000000",
      "text/html": "<div>\n<style scoped>\n    .dataframe tbody tr th:only-of-type {\n        vertical-align: middle;\n    }\n\n    .dataframe tbody tr th {\n        vertical-align: top;\n    }\n\n    .dataframe thead th {\n        text-align: right;\n    }\n</style>\n<table border=\"1\" class=\"dataframe\">\n  <thead>\n    <tr style=\"text-align: right;\">\n      <th></th>\n      <th>year</th>\n      <th>occurrences</th>\n      <th>gender_F</th>\n      <th>gender_M</th>\n    </tr>\n  </thead>\n  <tbody>\n    <tr>\n      <th>year</th>\n      <td>1.000000</td>\n      <td>-0.223944</td>\n      <td>0.218887</td>\n      <td>-0.218887</td>\n    </tr>\n    <tr>\n      <th>occurrences</th>\n      <td>-0.223944</td>\n      <td>1.000000</td>\n      <td>-0.165667</td>\n      <td>0.165667</td>\n    </tr>\n    <tr>\n      <th>gender_F</th>\n      <td>0.218887</td>\n      <td>-0.165667</td>\n      <td>1.000000</td>\n      <td>-1.000000</td>\n    </tr>\n    <tr>\n      <th>gender_M</th>\n      <td>-0.218887</td>\n      <td>0.165667</td>\n      <td>-1.000000</td>\n      <td>1.000000</td>\n    </tr>\n  </tbody>\n</table>\n</div>"
     },
     "execution_count": 9,
     "metadata": {},
     "output_type": "execute_result"
    }
   ],
   "source": [
    "charlie.corr()"
   ],
   "metadata": {
    "collapsed": false,
    "ExecuteTime": {
     "end_time": "2023-11-19T03:44:37.907425800Z",
     "start_time": "2023-11-19T03:44:37.891441300Z"
    }
   },
   "id": "fda9dbe5fa519562"
  },
  {
   "cell_type": "code",
   "execution_count": 10,
   "outputs": [
    {
     "data": {
      "text/plain": "    state gender  year    name  occurrences  gender_F  gender_M\n10     AK      F  2022  Oakley            5         1         0\n110    AL      F  2012  Oakley            6         1         0\n113    AL      F  2014  Oakley            7         1         0\n115    AL      F  2015  Oakley            7         1         0\n117    AL      F  2016  Oakley            9         1         0",
      "text/html": "<div>\n<style scoped>\n    .dataframe tbody tr th:only-of-type {\n        vertical-align: middle;\n    }\n\n    .dataframe tbody tr th {\n        vertical-align: top;\n    }\n\n    .dataframe thead th {\n        text-align: right;\n    }\n</style>\n<table border=\"1\" class=\"dataframe\">\n  <thead>\n    <tr style=\"text-align: right;\">\n      <th></th>\n      <th>state</th>\n      <th>gender</th>\n      <th>year</th>\n      <th>name</th>\n      <th>occurrences</th>\n      <th>gender_F</th>\n      <th>gender_M</th>\n    </tr>\n  </thead>\n  <tbody>\n    <tr>\n      <th>10</th>\n      <td>AK</td>\n      <td>F</td>\n      <td>2022</td>\n      <td>Oakley</td>\n      <td>5</td>\n      <td>1</td>\n      <td>0</td>\n    </tr>\n    <tr>\n      <th>110</th>\n      <td>AL</td>\n      <td>F</td>\n      <td>2012</td>\n      <td>Oakley</td>\n      <td>6</td>\n      <td>1</td>\n      <td>0</td>\n    </tr>\n    <tr>\n      <th>113</th>\n      <td>AL</td>\n      <td>F</td>\n      <td>2014</td>\n      <td>Oakley</td>\n      <td>7</td>\n      <td>1</td>\n      <td>0</td>\n    </tr>\n    <tr>\n      <th>115</th>\n      <td>AL</td>\n      <td>F</td>\n      <td>2015</td>\n      <td>Oakley</td>\n      <td>7</td>\n      <td>1</td>\n      <td>0</td>\n    </tr>\n    <tr>\n      <th>117</th>\n      <td>AL</td>\n      <td>F</td>\n      <td>2016</td>\n      <td>Oakley</td>\n      <td>9</td>\n      <td>1</td>\n      <td>0</td>\n    </tr>\n  </tbody>\n</table>\n</div>"
     },
     "execution_count": 10,
     "metadata": {},
     "output_type": "execute_result"
    }
   ],
   "source": [
    "Oakley = 'Oakley'\n",
    "oakley = q1data[q1data['name'] == Oakley].copy()\n",
    "oakley.head()"
   ],
   "metadata": {
    "collapsed": false,
    "ExecuteTime": {
     "end_time": "2023-11-19T03:44:51.029390600Z",
     "start_time": "2023-11-19T03:44:50.994244500Z"
    }
   },
   "id": "dcdc8873052ae0ca"
  },
  {
   "cell_type": "code",
   "execution_count": 11,
   "outputs": [
    {
     "name": "stderr",
     "output_type": "stream",
     "text": [
      "C:\\Users\\cathe\\AppData\\Local\\Temp\\ipykernel_41712\\1033452852.py:1: FutureWarning: The default value of numeric_only in DataFrame.corr is deprecated. In a future version, it will default to False. Select only valid columns or specify the value of numeric_only to silence this warning.\n",
      "  oakley.corr()\n"
     ]
    },
    {
     "data": {
      "text/plain": "                 year  occurrences  gender_F  gender_M\nyear         1.000000     0.224915  0.222692 -0.222692\noccurrences  0.224915     1.000000  0.264127 -0.264127\ngender_F     0.222692     0.264127  1.000000 -1.000000\ngender_M    -0.222692    -0.264127 -1.000000  1.000000",
      "text/html": "<div>\n<style scoped>\n    .dataframe tbody tr th:only-of-type {\n        vertical-align: middle;\n    }\n\n    .dataframe tbody tr th {\n        vertical-align: top;\n    }\n\n    .dataframe thead th {\n        text-align: right;\n    }\n</style>\n<table border=\"1\" class=\"dataframe\">\n  <thead>\n    <tr style=\"text-align: right;\">\n      <th></th>\n      <th>year</th>\n      <th>occurrences</th>\n      <th>gender_F</th>\n      <th>gender_M</th>\n    </tr>\n  </thead>\n  <tbody>\n    <tr>\n      <th>year</th>\n      <td>1.000000</td>\n      <td>0.224915</td>\n      <td>0.222692</td>\n      <td>-0.222692</td>\n    </tr>\n    <tr>\n      <th>occurrences</th>\n      <td>0.224915</td>\n      <td>1.000000</td>\n      <td>0.264127</td>\n      <td>-0.264127</td>\n    </tr>\n    <tr>\n      <th>gender_F</th>\n      <td>0.222692</td>\n      <td>0.264127</td>\n      <td>1.000000</td>\n      <td>-1.000000</td>\n    </tr>\n    <tr>\n      <th>gender_M</th>\n      <td>-0.222692</td>\n      <td>-0.264127</td>\n      <td>-1.000000</td>\n      <td>1.000000</td>\n    </tr>\n  </tbody>\n</table>\n</div>"
     },
     "execution_count": 11,
     "metadata": {},
     "output_type": "execute_result"
    }
   ],
   "source": [
    "oakley.corr()"
   ],
   "metadata": {
    "collapsed": false,
    "ExecuteTime": {
     "end_time": "2023-11-19T03:44:55.273357700Z",
     "start_time": "2023-11-19T03:44:55.203458500Z"
    }
   },
   "id": "cc7641af4c323acd"
  },
  {
   "cell_type": "markdown",
   "source": [
    "These correlation tables tell us there's a slightly higher correlation of Charlie being a male name and Oakley being a female name.  Oakley has a positive correlation of .26 with being Female, while Charlie has a negative correlation of -.16 of being Female.  So Oakley is more female associated, while Charlie is more male associated.  We can also see a few other trends in the data.  For Oakley, there is a positive correlation between year and occurrences, meaning that there are more people named Oakley as time goes on, but there's a negative correlation between year and occurrences for Charlie, so there are fewer Charlies.  We also see a positive correlation between year and Females in the Charlie table, meaning that while for the entire dataset there are more male Charlie's than female, the number of female Charlies is going up over time, and the same is true for Oakley's."
   ],
   "metadata": {
    "collapsed": false
   },
   "id": "7edf5438ce947596"
  },
  {
   "cell_type": "markdown",
   "source": [
    "However, this doesn't tell us the level of significance when it comes to the association of these names and gender.  One way to do that would be a chi squared test, we would need to unpivot this data into individual rows because chi squared tests are for categorical data, not numeric.  We already have an answer, but we can still do it and look at the crosstabs."
   ],
   "metadata": {
    "collapsed": false
   },
   "id": "9cf51e7a9b47e2ed"
  },
  {
   "cell_type": "code",
   "execution_count": 14,
   "outputs": [],
   "source": [
    "q1data_unpvt = q1data.loc[q1data.index.repeat(q1data.occurrences)]"
   ],
   "metadata": {
    "collapsed": false,
    "ExecuteTime": {
     "end_time": "2023-11-19T03:50:44.720391900Z",
     "start_time": "2023-11-19T03:50:44.674137800Z"
    }
   },
   "id": "8de44953ca8ac2a8"
  },
  {
   "cell_type": "code",
   "execution_count": 15,
   "outputs": [],
   "source": [
    "from scipy.stats import chi2_contingency    "
   ],
   "metadata": {
    "collapsed": false,
    "ExecuteTime": {
     "end_time": "2023-11-19T03:50:46.384259600Z",
     "start_time": "2023-11-19T03:50:46.362319500Z"
    }
   },
   "id": "191c681c9488c1d9"
  },
  {
   "cell_type": "code",
   "execution_count": 16,
   "outputs": [],
   "source": [
    "name_dm = pd.get_dummies(q1data_unpvt.name, prefix='name')\n",
    "q1data_unpvt = pd.concat([q1data_unpvt,name_dm], axis=1)"
   ],
   "metadata": {
    "collapsed": false,
    "ExecuteTime": {
     "end_time": "2023-11-19T03:50:58.853223200Z",
     "start_time": "2023-11-19T03:50:58.820133200Z"
    }
   },
   "id": "478a7164b7273f9c"
  },
  {
   "cell_type": "markdown",
   "source": [
    "Here, we have the labelled crosstabs with percentages by row.  83% of Charlies in the dataset are male, while only 16% are female.  Oakley is far more gender neutral with 57% female and 42% male.  These findings are consistent with what we saw from the correlation matrix, but I think they add a little more color and magnitude to the data for this specific question.  What I like about the correlation matrix is that it showed me the interactions between other elements of the dataset, so I would still do both in the future. "
   ],
   "metadata": {
    "collapsed": false
   },
   "id": "f33ff9bf24d0efd9"
  },
  {
   "cell_type": "code",
   "execution_count": 17,
   "outputs": [
    {
     "name": "stdout",
     "output_type": "stream",
     "text": [
      "gender          F         M\n",
      "name                       \n",
      "Charlie  0.164786  0.835214\n",
      "Oakley   0.574588  0.425412\n"
     ]
    }
   ],
   "source": [
    "contingency1= pd.crosstab(q1data_unpvt['name'],q1data_unpvt['gender'], normalize='index')\n",
    "print(contingency1)"
   ],
   "metadata": {
    "collapsed": false,
    "ExecuteTime": {
     "end_time": "2023-11-19T03:51:20.239897600Z",
     "start_time": "2023-11-19T03:51:20.184306400Z"
    }
   },
   "id": "dd3aa9e6ce86b72a"
  },
  {
   "cell_type": "markdown",
   "source": [
    "To do the Chi Squared test for significance, I need to code the names as dummies and run the crosstabs again.  "
   ],
   "metadata": {
    "collapsed": false
   },
   "id": "6088ae0e3e1b0099"
  },
  {
   "cell_type": "code",
   "execution_count": 20,
   "outputs": [
    {
     "name": "stdout",
     "output_type": "stream",
     "text": [
      "gender_F          0      1\n",
      "name_Oakley               \n",
      "0            151431  29877\n",
      "1              6482   8755\n"
     ]
    }
   ],
   "source": [
    "contingency2= pd.crosstab(q1data_unpvt['name_Oakley'],q1data_unpvt['gender_F'])\n",
    "print(contingency2)"
   ],
   "metadata": {
    "collapsed": false,
    "ExecuteTime": {
     "end_time": "2023-11-19T03:55:37.015808100Z",
     "start_time": "2023-11-19T03:55:36.962445500Z"
    }
   },
   "id": "d5d741da43eca13f"
  },
  {
   "cell_type": "code",
   "execution_count": 21,
   "outputs": [
    {
     "data": {
      "text/plain": "0.0"
     },
     "execution_count": 21,
     "metadata": {},
     "output_type": "execute_result"
    }
   ],
   "source": [
    "c, p, dof, expected = chi2_contingency(contingency2)\n",
    "p"
   ],
   "metadata": {
    "collapsed": false,
    "ExecuteTime": {
     "end_time": "2023-11-19T03:55:40.757912600Z",
     "start_time": "2023-11-19T03:55:40.740958800Z"
    }
   },
   "id": "3c179af06b06dea8"
  },
  {
   "cell_type": "markdown",
   "source": [
    "The p value is 0, so it looks like these directional findings are statistically significant.  "
   ],
   "metadata": {
    "collapsed": false
   },
   "id": "3549f9e5d009684e"
  },
  {
   "cell_type": "markdown",
   "source": [
    "Now I want to see if I can find something fun and interesting in the data.  I put together a table with the names of main characters from the top 3 TV shows in each decade from 1950 to 2010's, then I made a binary variable that is a 1 for each record where a given name was in the top 10 for it's decade.  For example, I love Lucy was the top show in the 1950's, so Lucy in 1955 would have a 1, but Lucy in 1975 would have a 0. "
   ],
   "metadata": {
    "collapsed": false
   },
   "id": "f9fd7543aae50c8f"
  },
  {
   "cell_type": "code",
   "execution_count": 25,
   "outputs": [
    {
     "data": {
      "text/plain": "     name  decade  occurrences  is_in_tv_names\n0    Abby    1990        13692               1\n1    Adam    1960        22778               1\n2    Adam    1980       195513               1\n3  Albert    1970        22003               1\n4  Alexis    1980        30832               1",
      "text/html": "<div>\n<style scoped>\n    .dataframe tbody tr th:only-of-type {\n        vertical-align: middle;\n    }\n\n    .dataframe tbody tr th {\n        vertical-align: top;\n    }\n\n    .dataframe thead th {\n        text-align: right;\n    }\n</style>\n<table border=\"1\" class=\"dataframe\">\n  <thead>\n    <tr style=\"text-align: right;\">\n      <th></th>\n      <th>name</th>\n      <th>decade</th>\n      <th>occurrences</th>\n      <th>is_in_tv_names</th>\n    </tr>\n  </thead>\n  <tbody>\n    <tr>\n      <th>0</th>\n      <td>Abby</td>\n      <td>1990</td>\n      <td>13692</td>\n      <td>1</td>\n    </tr>\n    <tr>\n      <th>1</th>\n      <td>Adam</td>\n      <td>1960</td>\n      <td>22778</td>\n      <td>1</td>\n    </tr>\n    <tr>\n      <th>2</th>\n      <td>Adam</td>\n      <td>1980</td>\n      <td>195513</td>\n      <td>1</td>\n    </tr>\n    <tr>\n      <th>3</th>\n      <td>Albert</td>\n      <td>1970</td>\n      <td>22003</td>\n      <td>1</td>\n    </tr>\n    <tr>\n      <th>4</th>\n      <td>Alexis</td>\n      <td>1980</td>\n      <td>30832</td>\n      <td>1</td>\n    </tr>\n  </tbody>\n</table>\n</div>"
     },
     "execution_count": 25,
     "metadata": {},
     "output_type": "execute_result"
    }
   ],
   "source": [
    "q3data.head()"
   ],
   "metadata": {
    "collapsed": false,
    "ExecuteTime": {
     "end_time": "2023-11-19T04:04:51.057071200Z",
     "start_time": "2023-11-19T04:04:51.039236300Z"
    }
   },
   "id": "623990e6f881967a"
  },
  {
   "cell_type": "code",
   "execution_count": 26,
   "outputs": [
    {
     "name": "stdout",
     "output_type": "stream",
     "text": [
      "              decade    occurrences  is_in_tv_names\n",
      "count  114907.000000  114907.000000   114907.000000\n",
      "mean     1978.139626    2807.304664        0.000870\n",
      "std        32.390179   19551.614146        0.029488\n",
      "min      1910.000000       5.000000        0.000000\n",
      "25%      1960.000000      11.000000        0.000000\n",
      "50%      1990.000000      50.000000        0.000000\n",
      "75%      2000.000000     360.500000        0.000000\n",
      "max      2020.000000  845868.000000        1.000000\n"
     ]
    }
   ],
   "source": [
    "descriptive_stats = q3data.describe()\n",
    "print(descriptive_stats)"
   ],
   "metadata": {
    "collapsed": false,
    "ExecuteTime": {
     "end_time": "2023-11-19T04:04:57.413275400Z",
     "start_time": "2023-11-19T04:04:57.382844500Z"
    }
   },
   "id": "e13cc77bf6abcd7b"
  },
  {
   "cell_type": "code",
   "execution_count": 27,
   "outputs": [
    {
     "name": "stdout",
     "output_type": "stream",
     "text": [
      "                            OLS Regression Results                            \n",
      "==============================================================================\n",
      "Dep. Variable:            occurrences   R-squared:                       0.004\n",
      "Model:                            OLS   Adj. R-squared:                  0.004\n",
      "Method:                 Least Squares   F-statistic:                     446.5\n",
      "Date:                Sat, 18 Nov 2023   Prob (F-statistic):           6.37e-99\n",
      "Time:                        20:06:21   Log-Likelihood:            -1.2982e+06\n",
      "No. Observations:              114907   AIC:                         2.596e+06\n",
      "Df Residuals:                  114905   BIC:                         2.596e+06\n",
      "Df Model:                           1                                         \n",
      "Covariance Type:            nonrobust                                         \n",
      "==================================================================================\n",
      "                     coef    std err          t      P>|t|      [0.025      0.975]\n",
      "----------------------------------------------------------------------------------\n",
      "const           2771.4038     57.591     48.122      0.000    2658.525    2884.282\n",
      "is_in_tv_names  4.125e+04   1952.232     21.131      0.000    3.74e+04    4.51e+04\n",
      "==============================================================================\n",
      "Omnibus:                   247707.619   Durbin-Watson:                   0.328\n",
      "Prob(Omnibus):                  0.000   Jarque-Bera (JB):       1406434316.115\n",
      "Skew:                          19.382   Prob(JB):                         0.00\n",
      "Kurtosis:                     543.603   Cond. No.                         33.9\n",
      "==============================================================================\n",
      "\n",
      "Notes:\n",
      "[1] Standard Errors assume that the covariance matrix of the errors is correctly specified.\n"
     ]
    }
   ],
   "source": [
    "import statsmodels.api as sm\n",
    "\n",
    "# Create a sample DataFrame (replace this with your actual data)\n",
    "# Add a constant term to the independent variable for the intercept\n",
    "X = sm.add_constant(q3data['is_in_tv_names'])\n",
    "\n",
    "# Fit the linear regression model\n",
    "model = sm.OLS(q3data['occurrences'], X)\n",
    "result = model.fit()\n",
    "\n",
    "# Display the regression results\n",
    "print(result.summary())"
   ],
   "metadata": {
    "collapsed": false,
    "ExecuteTime": {
     "end_time": "2023-11-19T04:06:21.085408600Z",
     "start_time": "2023-11-19T04:06:20.341185700Z"
    }
   },
   "id": "20a80930a4a04754"
  },
  {
   "cell_type": "markdown",
   "source": [
    "Interesting results!  I'd love to explore this more in PowerBI!  According to this, there are over 40,000 more occurences of a name if it's the name of a main character in a top tv show of a given decade! I wouldn't put much weight into that number because there are so many other potential factors here. "
   ],
   "metadata": {
    "collapsed": false
   },
   "id": "93a3dafc2b05be14"
  }
 ],
 "metadata": {
  "kernelspec": {
   "display_name": "Python 3",
   "language": "python",
   "name": "python3"
  },
  "language_info": {
   "codemirror_mode": {
    "name": "ipython",
    "version": 2
   },
   "file_extension": ".py",
   "mimetype": "text/x-python",
   "name": "python",
   "nbconvert_exporter": "python",
   "pygments_lexer": "ipython2",
   "version": "2.7.6"
  }
 },
 "nbformat": 4,
 "nbformat_minor": 5
}
